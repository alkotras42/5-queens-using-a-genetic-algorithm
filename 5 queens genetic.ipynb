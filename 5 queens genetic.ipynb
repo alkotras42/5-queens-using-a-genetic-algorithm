{
 "cells": [
  {
   "cell_type": "code",
   "execution_count": null,
   "metadata": {},
   "outputs": [],
   "source": [
    "import random as rd\n",
    "import time\n",
    "from math import *"
   ]
  },
  {
   "cell_type": "code",
   "execution_count": null,
   "metadata": {},
   "outputs": [],
   "source": [
    "def create_population(pop_size):\n",
    "    population = []\n",
    "    for i in range(pop_size):\n",
    "        cond = True\n",
    "        arr = []\n",
    "        while cond:\n",
    "            for j in range(8):\n",
    "                a = rd.randint(0,8)\n",
    "                arr.append(a)\n",
    "            if arr.count(0) != 3:\n",
    "                arr = []\n",
    "            else:\n",
    "                cond = False\n",
    "        population.append(arr)\n",
    "    return population"
   ]
  },
  {
   "cell_type": "code",
   "execution_count": null,
   "metadata": {},
   "outputs": [],
   "source": [
    "def create_next_popolation(population, mute_rate):\n",
    "    Mating_pool = []\n",
    "    for i in range(len(population)):\n",
    "        n = calc_fitnes(population[i]) * 5\n",
    "        for j in range(n):\n",
    "            Mating_pool.append(population[i])\n",
    "    for i in range(len(population)): \n",
    "        p1 = rd.choice(Mating_pool)\n",
    "        p2 = rd.choice(Mating_pool)\n",
    "        child = crossover(p1, p2)\n",
    "        child = make_zeros(child)\n",
    "        child = mutation(child, mute_rate)\n",
    "        population[i] = child\n",
    "    return population"
   ]
  },
  {
   "cell_type": "code",
   "execution_count": null,
   "metadata": {},
   "outputs": [],
   "source": [
    "def calc_max_fitnes(population):\n",
    "    max_fitnes = 0\n",
    "    for i in range(len(population)):\n",
    "        if calc_fitnes(population[i]) > max_fitnes:\n",
    "            max_fitnes = calc_fitnes(population[i])\n",
    "            num = i\n",
    "    return max_fitnes, num"
   ]
  },
  {
   "cell_type": "code",
   "execution_count": null,
   "metadata": {},
   "outputs": [],
   "source": [
    "def make_zeros(pop):\n",
    "    cond = True\n",
    "    while cond:\n",
    "        if pop.count(0) != 3:\n",
    "            if pop.count(0) < 3:\n",
    "                for j, val in enumerate(pop):\n",
    "                    if val > 0:\n",
    "                        pop[j] = 0\n",
    "                        break\n",
    "            if pop.count(0) > 3:\n",
    "                for j, val in enumerate(pop):\n",
    "                    if val == 0:\n",
    "                        pop[j] = rd.randint(1,8)\n",
    "                        break\n",
    "        else:\n",
    "            cond = False\n",
    "    return pop"
   ]
  },
  {
   "cell_type": "code",
   "execution_count": null,
   "metadata": {},
   "outputs": [],
   "source": [
    "def calc_fitnes(pop):\n",
    "    fitnes = 0\n",
    "    for i in range(len(pop)):\n",
    "        for j in range(len(pop)):\n",
    "            for k, val in enumerate(pop):\n",
    "                x1 = i + 1\n",
    "                y1 = j + 1\n",
    "                x2 = val \n",
    "                y2 = k + 1\n",
    "                if (val != 0) and ((abs(x1 - x2) == abs(y1 - y2)) or (x1 == x2) or (y1 == y2)):\n",
    "                    fitnes +=1\n",
    "                    break\n",
    "    return fitnes"
   ]
  },
  {
   "cell_type": "code",
   "execution_count": null,
   "metadata": {},
   "outputs": [],
   "source": [
    "def mutation(pop, mute_rate):\n",
    "    for i in range(len(pop)):\n",
    "        r = rd.random()\n",
    "        if (r < mute_rate) and (pop[i] != 0):\n",
    "            pop[i] = rd.randint(1,8)\n",
    "    return pop"
   ]
  },
  {
   "cell_type": "code",
   "execution_count": null,
   "metadata": {},
   "outputs": [],
   "source": [
    "def crossover(p1, p2):\n",
    "    r = rd.randint(0,8)\n",
    "    child = p1[:r] + p2[r:]\n",
    "    return child"
   ]
  },
  {
   "cell_type": "code",
   "execution_count": null,
   "metadata": {},
   "outputs": [],
   "source": [
    "def is_finish(pop):\n",
    "    if calc_fitnes(pop) == 28:\n",
    "        return True\n",
    "    else:\n",
    "        return False"
   ]
  },
  {
   "cell_type": "code",
   "execution_count": null,
   "metadata": {},
   "outputs": [],
   "source": [
    "def print_pop(pop):\n",
    "    start_str = '--------'\n",
    "    res = []\n",
    "    for i in range(8):\n",
    "        res.append(''.join(start_str))\n",
    "    for i in range(len(res)+1):\n",
    "        for j, val in enumerate(pop,1):\n",
    "            if (i == val) and (val > 0):\n",
    "                temp_str = list(res[i-1])\n",
    "                temp_str[j-1] = '*'\n",
    "                res[i-1] = temp_str\n",
    "                res[i-1] = ''.join(res[i-1])\n",
    "    res = '\\n'.join(res)\n",
    "    for i in res:\n",
    "        return (res)"
   ]
  },
  {
   "cell_type": "code",
   "execution_count": null,
   "metadata": {},
   "outputs": [],
   "source": [
    "def main():\n",
    "    pop_size = 10\n",
    "    mute_rate = 0.05\n",
    "    new_population = create_population(pop_size)\n",
    "    loop = True\n",
    "    it = 0\n",
    "    while (loop):\n",
    "        new_population = create_next_popolation(new_population, mute_rate)\n",
    "        res = calc_max_fitnes(new_population)[0]\n",
    "        it += 1\n",
    "        print('{0}: {1}'.format(it, res))\n",
    "        if res == 64:\n",
    "            a = new_population[calc_max_fitnes(new_population)[1]]\n",
    "            print(a)\n",
    "            print(print_pop(a))\n",
    "            loop = False"
   ]
  },
  {
   "cell_type": "code",
   "execution_count": null,
   "metadata": {
    "scrolled": true
   },
   "outputs": [],
   "source": [
    "start_time = time.time()\n",
    "main()\n",
    "print(\"%s seconds\" % (time.time() - start_time))"
   ]
  }
 ],
 "metadata": {
  "kernelspec": {
   "display_name": "Python 3",
   "language": "python",
   "name": "python3"
  },
  "language_info": {
   "codemirror_mode": {
    "name": "ipython",
    "version": 3
   },
   "file_extension": ".py",
   "mimetype": "text/x-python",
   "name": "python",
   "nbconvert_exporter": "python",
   "pygments_lexer": "ipython3",
   "version": "3.7.4"
  }
 },
 "nbformat": 4,
 "nbformat_minor": 2
}
